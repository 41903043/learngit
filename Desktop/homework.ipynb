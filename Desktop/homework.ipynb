{
 "cells": [
  {
   "cell_type": "markdown",
   "metadata": {},
   "source": [
    "# *视频首先介绍了IT是什么以及计算机的历史和运行原理。*\n",
    "## IT行业涉及了有用信息的整个范围\n",
    "## IT的本质是数字技术的使用\n",
    "# *第二部分介绍了计算机的硬件以及计算机的基本构造。*\n",
    "## EDU：传播数据；CPU：中央处理器 ；hard derive：硬盘；RAM：临时储存器\n",
    "## 我们的程序被复制到RAM，以供CPU读取。MCC是CPU和RAM之间的桥梁。\n",
    "# *第三部分介绍了计算机的操作系统以及如何安装操作系统。*\n",
    "## 虚拟内存：硬盘空间和RAM的结合体。logs：记录计算机系统的事件\n",
    "# *第四部分介绍了网络的相关信息。*\n",
    "## 当我们通过网络发送数据时，需要同时具有MAC和IP地址\n",
    "### MAC地址相当于确保来信接收人的姓名等信息，IP地址相当于房屋地址之前的信息。\n",
    "# *第五部分介绍了软件*\n",
    "## 软件是为了满足特定需求而创建的程序\n",
    "# *第六部分介绍了计算机的故障排除.*\n",
    "## ![关键截图](./截图.png)\n",
    "## 收集信息看似是下意识的决定，但是是关键性的一步，如果不收集足够的信息，很难判断出问题所在，甚至可能会误判。像视频中的例子，也许只是屏幕亮度的问题，但如果没收集足够的信息，可能会认为是需要换电脑的严重问题。"
   ]
  },
  {
   "cell_type": "code",
   "execution_count": null,
   "metadata": {},
   "outputs": [],
   "source": []
  },
  {
   "cell_type": "code",
   "execution_count": null,
   "metadata": {},
   "outputs": [],
   "source": []
  }
 ],
 "metadata": {
  "kernelspec": {
   "display_name": "Python 3",
   "language": "python",
   "name": "python3"
  },
  "language_info": {
   "codemirror_mode": {
    "name": "ipython",
    "version": 3
   },
   "file_extension": ".py",
   "mimetype": "text/x-python",
   "name": "python",
   "nbconvert_exporter": "python",
   "pygments_lexer": "ipython3",
   "version": "3.7.4"
  }
 },
 "nbformat": 4,
 "nbformat_minor": 2
}
